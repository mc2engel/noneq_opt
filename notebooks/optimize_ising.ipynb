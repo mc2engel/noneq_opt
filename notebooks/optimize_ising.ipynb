{
  "nbformat": 4,
  "nbformat_minor": 0,
  "metadata": {
    "colab": {
      "name": "Optimizing for Ising.ipynb",
      "provenance": [],
      "collapsed_sections": [],
      "authorship_tag": "ABX9TyODJZxSHk6CSwRKmSy8RKwR",
      "include_colab_link": true
    },
    "kernelspec": {
      "name": "python3",
      "display_name": "Python 3"
    },
    "accelerator": "GPU"
  },
  "cells": [
    {
      "cell_type": "markdown",
      "metadata": {
        "id": "view-in-github",
        "colab_type": "text"
      },
      "source": [
        "<a href=\"https://colab.research.google.com/github/mc2engel/noneq_opt/blob/main/notebooks/optimize_ising.ipynb\" target=\"_parent\"><img src=\"https://colab.research.google.com/assets/colab-badge.svg\" alt=\"Open In Colab\"/></a>"
      ]
    },
    {
      "cell_type": "markdown",
      "metadata": {
        "id": "UERL3F1_sUL_"
      },
      "source": [
        "## Instructions ##\n",
        "\n",
        "Since `noneq_opt` is currently private, you need to create a [Personal Access Token](https://docs.github.com/en/github/authenticating-to-github/creating-a-personal-access-token). Once you have the token, enter it below, and you should be able to run the cell to pip install the package.\n",
        "\n",
        "To run with a GPU, go to `Runtime > Change runtime type` and choose `GPU`.\n",
        "\n",
        "<!---TODO: add TPU instructions and code.--->"
      ]
    },
    {
      "cell_type": "markdown",
      "metadata": {
        "id": "lESV8Gj94lGW"
      },
      "source": [
        "# Installs and Imports"
      ]
    },
    {
      "cell_type": "code",
      "metadata": {
        "id": "e_F8rZMDlohU"
      },
      "source": [
        "token=''\n",
        "!pip install git+https://$token@github.com/mc2engel/noneq_opt.git --upgrade"
      ],
      "execution_count": null,
      "outputs": []
    },
    {
      "cell_type": "code",
      "metadata": {
        "id": "NmXLZB-zlpOx"
      },
      "source": [
        "import functools\n",
        "\n",
        "import tqdm\n",
        "\n",
        "from google.colab import files\n",
        "\n",
        "import jax\n",
        "import jax.numpy as jnp\n",
        "import jax.experimental.optimizers as jopt\n",
        "import numpy as np\n",
        "\n",
        "from noneq_opt import ising\n",
        "from noneq_opt import parameterization as p10n\n",
        "\n",
        "import matplotlib.pyplot as plt\n",
        "from matplotlib import animation\n",
        "from matplotlib import rc\n",
        "import pandas as pd\n",
        "import seaborn as sns\n",
        "rc('animation', html='jshtml')"
      ],
      "execution_count": null,
      "outputs": []
    },
    {
      "cell_type": "markdown",
      "metadata": {
        "id": "u5gSmkUjss36"
      },
      "source": [
        "# Simulation and training parameters"
      ]
    },
    {
      "cell_type": "code",
      "metadata": {
        "id": "we8GExVjlvht"
      },
      "source": [
        "size = 40  #@param\n",
        "seed = 0  #@param\n",
        "\n",
        "time_steps = 31 #@param\n",
        "\n",
        "field_degree = 16 #@param\n",
        "log_temp_degree = 16 #@param\n",
        "\n",
        "batch_size = 256 #@param\n",
        "\n",
        "optimizer = jopt.adam(3e-2) #@param\n",
        "training_steps = 1000 #@param"
      ],
      "execution_count": null,
      "outputs": []
    },
    {
      "cell_type": "markdown",
      "metadata": {
        "id": "Kj0Ul4R4s46j"
      },
      "source": [
        "# Define initial guess for the optimal protocol\n",
        "\n",
        "We do this by defining \"baseline\" functions and learning a \"diff\" from these baselines."
      ]
    },
    {
      "cell_type": "code",
      "metadata": {
        "id": "YbCENkktKZlW"
      },
      "source": [
        "def log_temp_baseline(min_temp=.75, max_temp=3., degree=1):\n",
        "  def _log_temp_baseline(t):\n",
        "    scale = (max_temp - min_temp)\n",
        "    shape = (1 - t)**degree * t**degree * 4 ** degree\n",
        "    return jnp.log(shape * scale + min_temp)\n",
        "  return _log_temp_baseline\n",
        "\n",
        "def field_baseline(start_field=-1., end_field=1.):\n",
        "  def _field_baseline(t):\n",
        "    return (1 - t) * start_field + t * end_field\n",
        "  return _field_baseline\n",
        "\n",
        "initial_log_temp_schedule = p10n.AddBaseline(\n",
        "    p10n.ConstrainEndpoints(\n",
        "        p10n.Chebyshev(\n",
        "            jnp.zeros(log_temp_degree)\n",
        "        ),\n",
        "        y0=0.,\n",
        "        y1=0.,\n",
        "    ),\n",
        "    baseline=log_temp_baseline()\n",
        ")\n",
        "\n",
        "\n",
        "initial_field_schedule = p10n.AddBaseline(\n",
        "    p10n.ConstrainEndpoints(\n",
        "        p10n.Chebyshev(\n",
        "            jnp.zeros(field_degree)\n",
        "        ),\n",
        "        y0=0.,\n",
        "        y1=0.,\n",
        "    ),   \n",
        "    baseline=field_baseline()\n",
        ")\n",
        "\n",
        "assert initial_field_schedule.domain == (0., 1.)\n",
        "assert initial_log_temp_schedule.domain == (0., 1.)\n",
        "\n",
        "initial_schedule = schedule = ising.IsingSchedule(\n",
        "    initial_log_temp_schedule, initial_field_schedule)\n",
        "\n",
        "time = jnp.linspace(0, 1, 100)\n",
        "initial_temp = jnp.exp(initial_log_temp_schedule(time))\n",
        "initial_field = initial_field_schedule(time)\n",
        "\n",
        "def plot_schedules(schedules):\n",
        "  time = np.linspace(0, 1, 100)\n",
        "  fig, ax = plt.subplots(1, 3, figsize=[21, 6])\n",
        "  for name, sched in schedules.items():\n",
        "    temp = np.exp(sched.log_temp(time))\n",
        "    field = sched.field(time)\n",
        "    ax[0].plot(time, temp, label=name)\n",
        "    ax[1].plot(time, field, label=name)\n",
        "    ax[2].plot(temp, field, label=name)\n",
        "\n",
        "  ax[0].set_title('Time vs. Temperature')\n",
        "  ax[0].set_xlabel('Time')\n",
        "  ax[0].set_ylabel('Temperature')\n",
        "  ax[0].legend() \n",
        "\n",
        "  ax[1].set_title('Time vs. Field')\n",
        "  ax[1].set_xlabel('Time')\n",
        "  ax[1].set_ylabel('Field')\n",
        "  ax[1].legend()\n",
        "\n",
        "  ax[2].set_title('Temperature vs. Field')\n",
        "  ax[2].set_xlabel('Temperature')\n",
        "  ax[2].set_ylabel('Field')\n",
        "  ax[2].legend()\n",
        "\n",
        "plot_schedules(dict(initial=initial_schedule))"
      ],
      "execution_count": null,
      "outputs": []
    },
    {
      "cell_type": "markdown",
      "metadata": {
        "id": "3RJKg2eH3GTn"
      },
      "source": [
        "# Training"
      ]
    },
    {
      "cell_type": "code",
      "metadata": {
        "id": "xN0rpQDw79E-"
      },
      "source": [
        "def seed_stream(seed):\n",
        "  key = jax.random.PRNGKey(seed)\n",
        "  while True:\n",
        "    key, yielded = jax.random.split(key)\n",
        "    yield(key)\n",
        "\n",
        "stream = seed_stream(0)\n",
        "state = optimizer.init_fn(schedule)\n",
        "initial_spins = -jnp.ones([size, size])\n",
        "\n",
        "train_step = ising.get_train_step(optimizer,\n",
        "                                  initial_spins,\n",
        "                                  batch_size,\n",
        "                                  time_steps,\n",
        "                                  ising.total_entropy_production)\n",
        "\n",
        "summaries = []\n",
        "\n",
        "for j in tqdm.trange(training_steps, position=0):\n",
        "  state, summary = train_step(state, j, next(stream))\n",
        "  summaries.append(jax.device_get(summary))\n",
        "\n",
        "# Plot entropy production during training.\n",
        "plt.figure(figsize=[12, 8])\n",
        "plt.plot([s.entropy_production.sum(-1) for s in summaries], 'r,', alpha=.1)\n",
        "plt.plot([s.entropy_production.sum(-1).mean() for s in summaries], 'b-')\n",
        "plt.xlabel('Training step')\n",
        "plt.ylabel('Entropy production')\n",
        "plt.title('Training')\n",
        "plt.show();\n"
      ],
      "execution_count": null,
      "outputs": []
    },
    {
      "cell_type": "markdown",
      "metadata": {
        "id": "qogpiGny7vuD"
      },
      "source": [
        "# Plot initial and final protocols"
      ]
    },
    {
      "cell_type": "code",
      "metadata": {
        "id": "d2MvNJH3_Bly"
      },
      "source": [
        "final_schedule = optimizer.params_fn(state)\n",
        "plot_schedules(dict(initial=initial_schedule, final=final_schedule))"
      ],
      "execution_count": null,
      "outputs": []
    },
    {
      "cell_type": "markdown",
      "metadata": {
        "id": "jlaYtSTx7I53"
      },
      "source": [
        "# Plot initial and final summaries"
      ]
    },
    {
      "cell_type": "code",
      "metadata": {
        "id": "zvTn3yGSaSFL"
      },
      "source": [
        "# If plotting is slow, increase subsampling.\n",
        "time_subsampling = 1\n",
        "\n",
        "metric_dict = {'initial': summaries[0]._asdict(),\n",
        "               'final': summaries[-1]._asdict()}\n",
        "dt = 1 / time_steps\n",
        "dataframes = []\n",
        "for name, metrics in metric_dict.items():\n",
        "  for metric_name, metric in metrics.items():\n",
        "    metric = metric[:, ::time_subsampling]  # Subsample\n",
        "    dataframe = pd.DataFrame(metric).melt()\n",
        "    dataframe['metric'] = metric_name\n",
        "    dataframe['time'] = dataframe.variable * dt\n",
        "    dataframe = dataframe.drop(columns='variable')\n",
        "    dataframe['version'] = name\n",
        "    dataframes.append(dataframe)\n",
        "data = pd.concat(dataframes)\n",
        "grid = sns.FacetGrid(data, col='metric', hue='version', col_wrap=2, aspect=4, sharey=False)\n",
        "grid.map(sns.lineplot, 'time', 'value', ci=99.99)\n",
        "grid.add_legend()\n",
        "plt.show();\n"
      ],
      "execution_count": null,
      "outputs": []
    },
    {
      "cell_type": "markdown",
      "metadata": {
        "id": "Ccv-9vBUIZY_"
      },
      "source": [
        "# Animate a single trajectory for initial and final protocols"
      ]
    },
    {
      "cell_type": "code",
      "metadata": {
        "id": "GF5OJNTKSPla"
      },
      "source": [
        "times = jnp.linspace(0, 1, time_steps)\n",
        "initial_params = initial_schedule(times)\n",
        "final_params = final_schedule(times)\n",
        "\n",
        "simulate = functools.partial(jax.jit, static_argnums=3)(ising.simulate_ising)\n",
        "\n",
        "_, (initial_summary, initial_states) = simulate(initial_params,\n",
        "                                                initial_spins,\n",
        "                                                jax.random.PRNGKey(0),\n",
        "                                                True)\n",
        "initial_trajectory = jnp.concatenate([initial_spins[jnp.newaxis], initial_states.spins])\n",
        "\n",
        "_, (final_summary, final_states) = simulate(final_params,\n",
        "                                            initial_spins,\n",
        "                                            jax.random.PRNGKey(0),\n",
        "                                            True)\n",
        "final_trajectory = jnp.concatenate([initial_spins[jnp.newaxis], final_states.spins])\n",
        "\n",
        "initial_entropy_production = initial_summary.entropy_production.cumsum()\n",
        "final_entropy_production = final_summary.entropy_production.cumsum()\n",
        "\n",
        "fig, ax = plt.subplots(3, 2, figsize=[18, 18])\n",
        "\n",
        "def frame(j):\n",
        "  # Plot images of trajectories\n",
        "  for a, traj, title in zip(ax[0],\n",
        "                            [initial_trajectory, final_trajectory],\n",
        "                            ['Initial', 'Optimized']):\n",
        "    a.clear()\n",
        "    a.imshow(traj[j])\n",
        "    a.get_xaxis().set_visible(False)\n",
        "    a.get_yaxis().set_visible(False)\n",
        "    a.set_title(title, fontsize=18)\n",
        "\n",
        "  # Plot temperature vs. field\n",
        "  min_field = np.min([initial_params.field, final_params.field])\n",
        "  max_field = np.max([initial_params.field, final_params.field])\n",
        "  max_temp = np.exp(np.maximum(initial_params.log_temp.max(), final_params.log_temp.max()))\n",
        "  for params, a in zip([initial_params, final_params], ax[1]):\n",
        "    a.clear()\n",
        "    field = params.field\n",
        "    temp = np.exp(params.log_temp)\n",
        "    a.plot(temp[:j + 1], field[:j + 1], 'r-', linewidth=4)\n",
        "    a.set_xlim(0, 1.3 * max_temp)\n",
        "    a.set_ylim(1.3 * min_field, 1.3 * max_field)\n",
        "    a.set_xlabel('Temperature')\n",
        "    a.set_ylabel('Field')\n",
        "\n",
        "  # Plot cumulative entropy production\n",
        "  times = np.linspace(0, 1, len(initial_entropy_production))\n",
        "  max_entropy_production = np.max([initial_entropy_production, final_entropy_production])\n",
        "  min_entropy_production = np.min([initial_entropy_production, final_entropy_production])\n",
        "  for entropy_production, a in zip([initial_entropy_production, final_entropy_production], ax[2]):\n",
        "    a.clear()\n",
        "    a.plot(times[:j + 1], entropy_production[:j + 1], 'b-', linewidth=4)\n",
        "    a.set_xlim(times.min(), times.max())\n",
        "    a.set_ylim(1.3 * min_entropy_production, 1.3 * max_entropy_production)\n",
        "    a.set_xlabel('Time')\n",
        "    a.set_ylabel('Cumulative entropy production')\n",
        "\n",
        "  return ()\n",
        "\n",
        "anim = animation.FuncAnimation(\n",
        "    fig, frame, blit=True, frames=time_steps)\n",
        "plt.close(fig)\n",
        "anim"
      ],
      "execution_count": null,
      "outputs": []
    },
    {
      "cell_type": "code",
      "metadata": {
        "id": "fwFjJ0c7SA5M",
        "colab": {
          "base_uri": "https://localhost:8080/",
          "height": 17
        },
        "outputId": "fcf1afab-d8c9-4b9a-b48b-e55a83f54802"
      },
      "source": [
        "# Download the animation\n",
        "\n",
        "path = '/tmp/optimized_ising.mp4'\n",
        "anim.save(path)\n",
        "files.download(path)"
      ],
      "execution_count": null,
      "outputs": [
        {
          "output_type": "display_data",
          "data": {
            "application/javascript": [
              "\n",
              "    async function download(id, filename, size) {\n",
              "      if (!google.colab.kernel.accessAllowed) {\n",
              "        return;\n",
              "      }\n",
              "      const div = document.createElement('div');\n",
              "      const label = document.createElement('label');\n",
              "      label.textContent = `Downloading \"${filename}\": `;\n",
              "      div.appendChild(label);\n",
              "      const progress = document.createElement('progress');\n",
              "      progress.max = size;\n",
              "      div.appendChild(progress);\n",
              "      document.body.appendChild(div);\n",
              "\n",
              "      const buffers = [];\n",
              "      let downloaded = 0;\n",
              "\n",
              "      const channel = await google.colab.kernel.comms.open(id);\n",
              "      // Send a message to notify the kernel that we're ready.\n",
              "      channel.send({})\n",
              "\n",
              "      for await (const message of channel.messages) {\n",
              "        // Send a message to notify the kernel that we're ready.\n",
              "        channel.send({})\n",
              "        if (message.buffers) {\n",
              "          for (const buffer of message.buffers) {\n",
              "            buffers.push(buffer);\n",
              "            downloaded += buffer.byteLength;\n",
              "            progress.value = downloaded;\n",
              "          }\n",
              "        }\n",
              "      }\n",
              "      const blob = new Blob(buffers, {type: 'application/binary'});\n",
              "      const a = document.createElement('a');\n",
              "      a.href = window.URL.createObjectURL(blob);\n",
              "      a.download = filename;\n",
              "      div.appendChild(a);\n",
              "      a.click();\n",
              "      div.remove();\n",
              "    }\n",
              "  "
            ],
            "text/plain": [
              "<IPython.core.display.Javascript object>"
            ]
          },
          "metadata": {
            "tags": []
          }
        },
        {
          "output_type": "display_data",
          "data": {
            "application/javascript": [
              "download(\"download_615301eb-abb3-4951-92f4-b086818528c3\", \"optimized_ising.mp4\", 213310)"
            ],
            "text/plain": [
              "<IPython.core.display.Javascript object>"
            ]
          },
          "metadata": {
            "tags": []
          }
        }
      ]
    }
  ]
}