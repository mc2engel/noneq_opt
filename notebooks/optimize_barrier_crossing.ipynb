{
  "nbformat": 4,
  "nbformat_minor": 0,
  "metadata": {
    "accelerator": "GPU",
    "colab": {
      "name": "Optimizing Barrier Crossing.ipynb",
      "provenance": [],
      "collapsed_sections": [],
      "include_colab_link": true
    },
    "kernelspec": {
      "display_name": "Python 3",
      "name": "python3"
    }
  },
  "cells": [
    {
      "cell_type": "markdown",
      "metadata": {
        "id": "view-in-github",
        "colab_type": "text"
      },
      "source": [
        "<a href=\"https://colab.research.google.com/github/mc2engel/noneq_opt/blob/main/notebooks/optimize_barrier_crossing.ipynb\" target=\"_parent\"><img src=\"https://colab.research.google.com/assets/colab-badge.svg\" alt=\"Open In Colab\"/></a>"
      ]
    },
    {
      "cell_type": "markdown",
      "metadata": {
        "id": "APOQq3fVek0r"
      },
      "source": [
        "## Instructions ##\n",
        "\n",
        "Since `noneq_opt` is currently private, you need to create a [Personal Access Token](https://docs.github.com/en/github/authenticating-to-github/creating-a-personal-access-token). Once you have the token, enter it below, and you should be able to run the cell to pip install the package.\n",
        "\n",
        "To run with a GPU, go to `Runtime > Change runtime type` and choose `GPU`.\n",
        "\n",
        "<!---TODO: add TPU instructions and code.--->"
      ]
    },
    {
      "cell_type": "markdown",
      "metadata": {
        "id": "nQvIXGtMekcR"
      },
      "source": [
        "# Installs and Imports"
      ]
    },
    {
      "cell_type": "code",
      "metadata": {
        "id": "xwLV2yqYz6Uy"
      },
      "source": [
        "token=''\n",
        "!pip install git+https://$token@github.com/mc2engel/noneq_opt.git --upgrade"
      ],
      "execution_count": null,
      "outputs": []
    },
    {
      "cell_type": "code",
      "metadata": {
        "id": "ySzzQUGu0X3d"
      },
      "source": [
        "import functools\n",
        "\n",
        "import tqdm\n",
        "\n",
        "from google.colab import files\n",
        "\n",
        "import jax\n",
        "import jax.numpy as jnp\n",
        "import jax.experimental.optimizers as jopt\n",
        "import numpy as np\n",
        "\n",
        "import jax_md                                    # DELETE?\n",
        "\n",
        "import noneq_opt.parameterization as p10n\n",
        "import noneq_opt.barrier_crossing as xing\n",
        "\n",
        "import matplotlib.pyplot as plt\n",
        "from matplotlib import animation\n",
        "from matplotlib import rc\n",
        "import pandas as pd\n",
        "import seaborn as sns\n",
        "rc('animation', html='jshtml')"
      ],
      "execution_count": null,
      "outputs": []
    },
    {
      "cell_type": "markdown",
      "metadata": {
        "id": "rAa4e4DwgewD"
      },
      "source": [
        "# Simulation and training parameters"
      ]
    },
    {
      "cell_type": "code",
      "metadata": {
        "id": "Ud09b9F1-zRN"
      },
      "source": [
        "# Time\n",
        "total_time = 10.           #@param\n",
        "time_steps = 3000          #@param\n",
        "\n",
        "# Environment\n",
        "temperature = 4.           #@param\n",
        "gamma = 1.                 #@param\n",
        "\n",
        "\n",
        "# Trap\n",
        "trap_k = 1.                 #@param\n",
        "trap_schedule_degree = 16   #@param\n",
        "mass = 1.                   #@param\n",
        "\n",
        "# Molecule\n",
        "mol_k_l = 1.                #@param\n",
        "mol_k_r = 1.                #@param\n",
        "mol_delta_e = 0.            #@param\n",
        "mol_beta = 1.               #@param\n",
        "mol_location = 5.           #@param\n",
        "\n",
        "# Training\n",
        "seed = 0                    #@param\n",
        "batch_size = 1024           #@param\n",
        "optimizer = jopt.adam(.1)   #@param\n",
        "training_steps = 1000       #@param"
      ],
      "execution_count": null,
      "outputs": []
    },
    {
      "cell_type": "markdown",
      "metadata": {
        "id": "-pzK6pqHhc1J"
      },
      "source": [
        "# Define our initial schedule"
      ]
    },
    {
      "cell_type": "code",
      "metadata": {
        "id": "LHuKgXVchTVE"
      },
      "source": [
        "initial_location_schedule = p10n.ConstrainEndpoints(\n",
        "    p10n.ChangeDomain(p10n.Chebyshev(jnp.zeros([1, trap_schedule_degree])),\n",
        "                      x0=0., x1=total_time),\n",
        "    y0=-mol_location, y1=mol_location)\n",
        "\n",
        "def plot_schedule(schedule):\n",
        "  times = jnp.linspace(0, total_time, 100)\n",
        "  plt.figure(figsize=[10, 8])\n",
        "  plt.plot(times, schedule(times), label='Trap location', linewidth=3)\n",
        "  xlim = plt.xlim()\n",
        "  plt.hlines(-mol_location, *xlim, 'g', 'dashed', label='Start')\n",
        "  plt.hlines(+mol_location, *xlim, 'r', 'dashed', label='End')\n",
        "  plt.xlabel('Time')\n",
        "  plt.ylabel('Location')\n",
        "  plt.legend()\n",
        "plot_schedule(initial_location_schedule)\n",
        "plt.title('Initial Schedule')                                        "
      ],
      "execution_count": null,
      "outputs": []
    },
    {
      "cell_type": "markdown",
      "metadata": {
        "id": "iec_QVaxll7Q"
      },
      "source": [
        "#Training"
      ]
    },
    {
      "cell_type": "code",
      "metadata": {
        "id": "jtnpxrjSi9dK"
      },
      "source": [
        "def seed_stream(seed):\n",
        "  key = jax.random.PRNGKey(seed)\n",
        "  while True:\n",
        "    key, yielded = jax.random.split(key)\n",
        "    yield(key)\n",
        "\n",
        "stream = seed_stream(0)\n",
        "state = optimizer.init_fn(initial_location_schedule)\n",
        "\n",
        "trap_fn = functools.partial(xing.potential, k=trap_k)\n",
        "molecule = xing.bistable_molecule(\n",
        "    jnp.array([mol_location]), mol_k_l, mol_k_r, mol_delta_e, mol_beta)\n",
        "x0 =  -mol_location * jnp.ones(1)\n",
        "\n",
        "train_step = xing.get_train_step(optimizer,\n",
        "                                 trap_fn,\n",
        "                                 molecule,\n",
        "                                 x0,\n",
        "                                 total_time,\n",
        "                                 time_steps,\n",
        "                                 mass,\n",
        "                                 temperature,\n",
        "                                 gamma,\n",
        "                                 batch_size)\n",
        "\n",
        "summaries = []\n",
        "\n",
        "for j in tqdm.trange(train_steps, position=0):\n",
        "  state, summary = train_step(state, j, next(stream))\n",
        "  summaries.append(summary)\n",
        "\n",
        "# Plot entropy production during training.\n",
        "plt.figure(figsize=[12, 8])\n",
        "plt.plot([s.work.sum(-1) for s in summaries], 'r,', alpha=.1)\n",
        "plt.plot([s.work.sum(-1).mean() for s in summaries], 'b-')\n",
        "plt.xlabel('Training step')\n",
        "plt.ylabel('Work')\n",
        "plt.title('Training')\n",
        "plt.show();\n",
        "\n",
        "final_schedule = optimizer.params_fn(state)\n",
        "plot_schedule(final_schedule)\n",
        "plt.title('Final Schedule')\n",
        "plt.show();"
      ],
      "execution_count": null,
      "outputs": []
    },
    {
      "cell_type": "markdown",
      "metadata": {
        "id": "w-6x9IIEkeXY"
      },
      "source": [
        "# Plot an animation of the final schedule"
      ]
    },
    {
      "cell_type": "code",
      "metadata": {
        "colab": {
          "background_save": true
        },
        "id": "2GDVZyKsrJOg"
      },
      "source": [
        "plot_every = 20\n",
        "max_energy = 100\n",
        "\n",
        "times = np.linspace(0, total_time, time_steps // plot_every)\n",
        "xs = jnp.linspace(-2 * mol_location, 2 * mol_location, 100)[..., jnp.newaxis]\n",
        "\n",
        "fig = plt.figure(figsize=[12, 12])\n",
        "ax = plt.axes()\n",
        "\n",
        "schedule = optimizer.params_fn(state)\n",
        "trap = trap_fn(schedule)\n",
        "energy = xing.sum_potentials(trap, molecule)\n",
        "\n",
        "def frame(j):\n",
        "  ax.clear()\n",
        "  time = times[j]\n",
        "\n",
        "  positions = jnp.transpose(summary.state.position[:, j * plot_every], axes=(0, 1))\n",
        "  \n",
        "  trp = jax.vmap(trap, [0, None])(xs, time)\n",
        "  mol = jax.vmap(molecule, [0, None])(xs, time)\n",
        "  nrg = jax.vmap(energy, [0, None])(xs, time)\n",
        "  ax.plot(xs, trp, 'r-', label='trap')\n",
        "  ax.plot(xs, mol, 'b-', label='bistable molecule')\n",
        "  ax.plot(xs, nrg, 'm-', label='total')\n",
        "  plot = ax.scatter(positions, jax.vmap(energy, [0, None])(positions, time) + 1, c='g', marker='.', label='locations')\n",
        "  ax.hist\n",
        "  ax.set_ylim(-10, max_energy)\n",
        "  ax.set_xlim(xs[0, 0], xs[-1, 0])\n",
        "  ax.text(-2 * mol_location, -5, f'Time: {time:.2f}')\n",
        "  ax.legend(loc=1)\n",
        "  return plot,\n",
        "\n",
        "frame(0)\n",
        "print('Building animation...')\n",
        "anim = animation.FuncAnimation(\n",
        "    fig, frame, blit=True, frames=time_steps // plot_every)\n",
        "plt.close(fig)\n",
        "anim"
      ],
      "execution_count": null,
      "outputs": []
    }
  ]
}