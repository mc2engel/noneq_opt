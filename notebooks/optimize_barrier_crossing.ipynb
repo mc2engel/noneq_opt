{
  "nbformat": 4,
  "nbformat_minor": 0,
  "metadata": {
    "accelerator": "GPU",
    "colab": {
      "name": "Optimizing Barrier Crossing.ipynb",
      "provenance": [],
      "toc_visible": true,
      "include_colab_link": true
    },
    "kernelspec": {
      "display_name": "Python 3",
      "name": "python3"
    }
  },
  "cells": [
    {
      "cell_type": "markdown",
      "metadata": {
        "id": "view-in-github",
        "colab_type": "text"
      },
      "source": [
        "<a href=\"https://colab.research.google.com/github/mc2engel/noneq_opt/blob/mce_2025/notebooks/optimize_barrier_crossing.ipynb\" target=\"_parent\"><img src=\"https://colab.research.google.com/assets/colab-badge.svg\" alt=\"Open In Colab\"/></a>"
      ]
    },
    {
      "cell_type": "markdown",
      "metadata": {
        "id": "APOQq3fVek0r"
      },
      "source": [
        "## Instructions ##\n",
        "\n",
        "Since `noneq_opt` is currently private, you need to create a [Personal Access Token](https://docs.github.com/en/github/authenticating-to-github/creating-a-personal-access-token). Once you have the token, enter it below, and you should be able to run the cell to pip install the package.\n",
        "\n",
        "To run with a GPU, go to `Runtime > Change runtime type` and choose `GPU`.\n",
        "\n",
        "<!---TODO: add TPU instructions and code.--->"
      ]
    },
    {
      "cell_type": "markdown",
      "metadata": {
        "id": "nQvIXGtMekcR"
      },
      "source": [
        "# Installs and Imports"
      ]
    },
    {
      "cell_type": "code",
      "metadata": {
        "id": "xwLV2yqYz6Uy",
        "outputId": "10343cd3-e486-4e53-dea6-113785ccc12e",
        "colab": {
          "base_uri": "https://localhost:8080/"
        }
      },
      "source": [
        "token=''\n",
        "!pip install git+https://$token@github.com/mc2engel/noneq_opt.git@mce_2025 --upgrade\n",
        "!pip install -q git+https://www.github.com/google/jax-md"
      ],
      "execution_count": 1,
      "outputs": [
        {
          "output_type": "stream",
          "name": "stdout",
          "text": [
            "Collecting git+https://****@github.com/mc2engel/noneq_opt.git@mce_2025\n",
            "  Cloning https://****@github.com/mc2engel/noneq_opt.git (to revision mce_2025) to /tmp/pip-req-build-l6d02qzg\n",
            "  Running command git clone --filter=blob:none --quiet 'https://****@github.com/mc2engel/noneq_opt.git' /tmp/pip-req-build-l6d02qzg\n",
            "  warning: redirecting to https://github.com/mc2engel/noneq_opt.git/\n",
            "  Running command git checkout -b mce_2025 --track origin/mce_2025\n",
            "  warning: redirecting to https://github.com/mc2engel/noneq_opt.git/\n",
            "  Switched to a new branch 'mce_2025'\n",
            "  Branch 'mce_2025' set up to track remote branch 'mce_2025' from 'origin'.\n",
            "  Resolved https://****@github.com/mc2engel/noneq_opt.git to commit 8f97062c00fc0f927d59d50048f664846bbb4b0c\n",
            "  Preparing metadata (setup.py) ... \u001b[?25l\u001b[?25hdone\n",
            "Requirement already satisfied: jax in /usr/local/lib/python3.11/dist-packages (from noneq_opt==0.1) (0.4.33)\n",
            "Collecting jax-cosmo (from noneq_opt==0.1)\n",
            "  Downloading jax-cosmo-0.1.0.tar.gz (287 kB)\n",
            "\u001b[2K     \u001b[90m━━━━━━━━━━━━━━━━━━━━━━━━━━━━━━━━━━━━━━━━\u001b[0m \u001b[32m287.4/287.4 kB\u001b[0m \u001b[31m5.3 MB/s\u001b[0m eta \u001b[36m0:00:00\u001b[0m\n",
            "\u001b[?25h  Preparing metadata (setup.py) ... \u001b[?25l\u001b[?25hdone\n",
            "Requirement already satisfied: matplotlib in /usr/local/lib/python3.11/dist-packages (from noneq_opt==0.1) (3.10.0)\n",
            "Requirement already satisfied: numpy in /usr/local/lib/python3.11/dist-packages (from noneq_opt==0.1) (1.26.4)\n",
            "Requirement already satisfied: pandas in /usr/local/lib/python3.11/dist-packages (from noneq_opt==0.1) (2.2.2)\n",
            "Requirement already satisfied: pytest in /usr/local/lib/python3.11/dist-packages (from noneq_opt==0.1) (8.3.4)\n",
            "Requirement already satisfied: scipy in /usr/local/lib/python3.11/dist-packages (from noneq_opt==0.1) (1.13.1)\n",
            "Requirement already satisfied: seaborn in /usr/local/lib/python3.11/dist-packages (from noneq_opt==0.1) (0.13.2)\n",
            "Collecting distrax (from noneq_opt==0.1)\n",
            "  Downloading distrax-0.1.5-py3-none-any.whl.metadata (13 kB)\n",
            "Requirement already satisfied: absl-py>=0.9.0 in /usr/local/lib/python3.11/dist-packages (from distrax->noneq_opt==0.1) (1.4.0)\n",
            "Requirement already satisfied: chex>=0.1.8 in /usr/local/lib/python3.11/dist-packages (from distrax->noneq_opt==0.1) (0.1.88)\n",
            "Requirement already satisfied: jaxlib>=0.1.67 in /usr/local/lib/python3.11/dist-packages (from distrax->noneq_opt==0.1) (0.4.33)\n",
            "Requirement already satisfied: tensorflow-probability>=0.15.0 in /usr/local/lib/python3.11/dist-packages (from distrax->noneq_opt==0.1) (0.25.0)\n",
            "Requirement already satisfied: ml-dtypes>=0.2.0 in /usr/local/lib/python3.11/dist-packages (from jax->noneq_opt==0.1) (0.4.1)\n",
            "Requirement already satisfied: opt-einsum in /usr/local/lib/python3.11/dist-packages (from jax->noneq_opt==0.1) (3.4.0)\n",
            "Requirement already satisfied: contourpy>=1.0.1 in /usr/local/lib/python3.11/dist-packages (from matplotlib->noneq_opt==0.1) (1.3.1)\n",
            "Requirement already satisfied: cycler>=0.10 in /usr/local/lib/python3.11/dist-packages (from matplotlib->noneq_opt==0.1) (0.12.1)\n",
            "Requirement already satisfied: fonttools>=4.22.0 in /usr/local/lib/python3.11/dist-packages (from matplotlib->noneq_opt==0.1) (4.56.0)\n",
            "Requirement already satisfied: kiwisolver>=1.3.1 in /usr/local/lib/python3.11/dist-packages (from matplotlib->noneq_opt==0.1) (1.4.8)\n",
            "Requirement already satisfied: packaging>=20.0 in /usr/local/lib/python3.11/dist-packages (from matplotlib->noneq_opt==0.1) (24.2)\n",
            "Requirement already satisfied: pillow>=8 in /usr/local/lib/python3.11/dist-packages (from matplotlib->noneq_opt==0.1) (11.1.0)\n",
            "Requirement already satisfied: pyparsing>=2.3.1 in /usr/local/lib/python3.11/dist-packages (from matplotlib->noneq_opt==0.1) (3.2.1)\n",
            "Requirement already satisfied: python-dateutil>=2.7 in /usr/local/lib/python3.11/dist-packages (from matplotlib->noneq_opt==0.1) (2.8.2)\n",
            "Requirement already satisfied: pytz>=2020.1 in /usr/local/lib/python3.11/dist-packages (from pandas->noneq_opt==0.1) (2025.1)\n",
            "Requirement already satisfied: tzdata>=2022.7 in /usr/local/lib/python3.11/dist-packages (from pandas->noneq_opt==0.1) (2025.1)\n",
            "Requirement already satisfied: iniconfig in /usr/local/lib/python3.11/dist-packages (from pytest->noneq_opt==0.1) (2.0.0)\n",
            "Requirement already satisfied: pluggy<2,>=1.5 in /usr/local/lib/python3.11/dist-packages (from pytest->noneq_opt==0.1) (1.5.0)\n",
            "Requirement already satisfied: typing_extensions>=4.2.0 in /usr/local/lib/python3.11/dist-packages (from chex>=0.1.8->distrax->noneq_opt==0.1) (4.12.2)\n",
            "Requirement already satisfied: toolz>=0.9.0 in /usr/local/lib/python3.11/dist-packages (from chex>=0.1.8->distrax->noneq_opt==0.1) (0.12.1)\n",
            "Requirement already satisfied: six>=1.5 in /usr/local/lib/python3.11/dist-packages (from python-dateutil>=2.7->matplotlib->noneq_opt==0.1) (1.17.0)\n",
            "Requirement already satisfied: decorator in /usr/local/lib/python3.11/dist-packages (from tensorflow-probability>=0.15.0->distrax->noneq_opt==0.1) (4.4.2)\n",
            "Requirement already satisfied: cloudpickle>=1.3 in /usr/local/lib/python3.11/dist-packages (from tensorflow-probability>=0.15.0->distrax->noneq_opt==0.1) (3.1.1)\n",
            "Requirement already satisfied: gast>=0.3.2 in /usr/local/lib/python3.11/dist-packages (from tensorflow-probability>=0.15.0->distrax->noneq_opt==0.1) (0.6.0)\n",
            "Requirement already satisfied: dm-tree in /usr/local/lib/python3.11/dist-packages (from tensorflow-probability>=0.15.0->distrax->noneq_opt==0.1) (0.1.9)\n",
            "Requirement already satisfied: attrs>=18.2.0 in /usr/local/lib/python3.11/dist-packages (from dm-tree->tensorflow-probability>=0.15.0->distrax->noneq_opt==0.1) (25.1.0)\n",
            "Requirement already satisfied: wrapt>=1.11.2 in /usr/local/lib/python3.11/dist-packages (from dm-tree->tensorflow-probability>=0.15.0->distrax->noneq_opt==0.1) (1.17.2)\n",
            "Downloading distrax-0.1.5-py3-none-any.whl (319 kB)\n",
            "\u001b[2K   \u001b[90m━━━━━━━━━━━━━━━━━━━━━━━━━━━━━━━━━━━━━━━━\u001b[0m \u001b[32m319.7/319.7 kB\u001b[0m \u001b[31m18.7 MB/s\u001b[0m eta \u001b[36m0:00:00\u001b[0m\n",
            "\u001b[?25hBuilding wheels for collected packages: noneq_opt, jax-cosmo\n",
            "  Building wheel for noneq_opt (setup.py) ... \u001b[?25l\u001b[?25hdone\n",
            "  Created wheel for noneq_opt: filename=noneq_opt-0.1-py3-none-any.whl size=18082 sha256=4b1f9756b661dfdf4cfcde10b2ac888f87062f759aa5cceb0402072f518b44e9\n",
            "  Stored in directory: /tmp/pip-ephem-wheel-cache-rb04kh8_/wheels/9b/2c/ed/bf936f22bc76c40ade7dc1bb71b48b56bdc6817e1e4300b84c\n",
            "  Building wheel for jax-cosmo (setup.py) ... \u001b[?25l\u001b[?25hdone\n",
            "  Created wheel for jax-cosmo: filename=jax_cosmo-0.1.0-py3-none-any.whl size=35704 sha256=f607d4be1ba863bc49a86128c7e1ba8c60715a4a7eb7d131b4ed9b9358a7e324\n",
            "  Stored in directory: /root/.cache/pip/wheels/5e/51/91/a3bd1278ea3a0f4f187e1700ed16d5096294204fc4e2d0cd52\n",
            "Successfully built noneq_opt jax-cosmo\n",
            "Installing collected packages: jax-cosmo, distrax, noneq_opt\n",
            "Successfully installed distrax-0.1.5 jax-cosmo-0.1.0 noneq_opt-0.1\n",
            "  Preparing metadata (setup.py) ... \u001b[?25l\u001b[?25hdone\n",
            "\u001b[2K   \u001b[90m━━━━━━━━━━━━━━━━━━━━━━━━━━━━━━━━━━━━━━━━\u001b[0m \u001b[32m373.9/373.9 kB\u001b[0m \u001b[31m15.0 MB/s\u001b[0m eta \u001b[36m0:00:00\u001b[0m\n",
            "\u001b[2K   \u001b[90m━━━━━━━━━━━━━━━━━━━━━━━━━━━━━━━━━━━━━━━━\u001b[0m \u001b[32m168.9/168.9 kB\u001b[0m \u001b[31m15.0 MB/s\u001b[0m eta \u001b[36m0:00:00\u001b[0m\n",
            "\u001b[2K   \u001b[90m━━━━━━━━━━━━━━━━━━━━━━━━━━━━━━━━━━━━━━━━\u001b[0m \u001b[32m90.6/90.6 kB\u001b[0m \u001b[31m8.5 MB/s\u001b[0m eta \u001b[36m0:00:00\u001b[0m\n",
            "\u001b[2K   \u001b[90m━━━━━━━━━━━━━━━━━━━━━━━━━━━━━━━━━━━━━━━━\u001b[0m \u001b[32m76.5/76.5 kB\u001b[0m \u001b[31m7.9 MB/s\u001b[0m eta \u001b[36m0:00:00\u001b[0m\n",
            "\u001b[2K   \u001b[90m━━━━━━━━━━━━━━━━━━━━━━━━━━━━━━━━━━━━━━━━\u001b[0m \u001b[32m5.1/5.1 MB\u001b[0m \u001b[31m94.6 MB/s\u001b[0m eta \u001b[36m0:00:00\u001b[0m\n",
            "\u001b[2K   \u001b[90m━━━━━━━━━━━━━━━━━━━━━━━━━━━━━━━━━━━━━━━━\u001b[0m \u001b[32m51.5/51.5 kB\u001b[0m \u001b[31m4.5 MB/s\u001b[0m eta \u001b[36m0:00:00\u001b[0m\n",
            "\u001b[2K   \u001b[90m━━━━━━━━━━━━━━━━━━━━━━━━━━━━━━━━━━━━━━━━\u001b[0m \u001b[32m332.3/332.3 kB\u001b[0m \u001b[31m28.7 MB/s\u001b[0m eta \u001b[36m0:00:00\u001b[0m\n",
            "\u001b[2K   \u001b[90m━━━━━━━━━━━━━━━━━━━━━━━━━━━━━━━━━━━━━━━━\u001b[0m \u001b[32m561.4/561.4 kB\u001b[0m \u001b[31m42.7 MB/s\u001b[0m eta \u001b[36m0:00:00\u001b[0m\n",
            "\u001b[2K   \u001b[90m━━━━━━━━━━━━━━━━━━━━━━━━━━━━━━━━━━━━━━━━\u001b[0m \u001b[32m117.7/117.7 kB\u001b[0m \u001b[31m11.3 MB/s\u001b[0m eta \u001b[36m0:00:00\u001b[0m\n",
            "\u001b[2K   \u001b[90m━━━━━━━━━━━━━━━━━━━━━━━━━━━━━━━━━━━━━━━━\u001b[0m \u001b[32m1.1/1.1 MB\u001b[0m \u001b[31m61.1 MB/s\u001b[0m eta \u001b[36m0:00:00\u001b[0m\n",
            "\u001b[2K   \u001b[90m━━━━━━━━━━━━━━━━━━━━━━━━━━━━━━━━━━━━━━━━\u001b[0m \u001b[32m58.3/58.3 kB\u001b[0m \u001b[31m6.0 MB/s\u001b[0m eta \u001b[36m0:00:00\u001b[0m\n",
            "\u001b[2K   \u001b[90m━━━━━━━━━━━━━━━━━━━━━━━━━━━━━━━━━━━━━━━━\u001b[0m \u001b[32m739.1/739.1 kB\u001b[0m \u001b[31m44.3 MB/s\u001b[0m eta \u001b[36m0:00:00\u001b[0m\n",
            "\u001b[?25h  Building wheel for jax-md (setup.py) ... \u001b[?25l\u001b[?25hdone\n"
          ]
        }
      ]
    },
    {
      "cell_type": "code",
      "metadata": {
        "id": "ySzzQUGu0X3d"
      },
      "source": [
        "import functools\n",
        "\n",
        "import tqdm\n",
        "\n",
        "from google.colab import files\n",
        "\n",
        "import jax\n",
        "import jax.numpy as jnp\n",
        "import optax\n",
        "import numpy as np\n",
        "\n",
        "import jax_md\n",
        "\n",
        "import noneq_opt.parameterization as p10n\n",
        "import noneq_opt.barrier_crossing as xing\n",
        "import noneq_opt.potentials as potentials\n",
        "\n",
        "import matplotlib.pyplot as plt\n",
        "from matplotlib import animation\n",
        "from matplotlib import rc\n",
        "import pandas as pd\n",
        "import seaborn as sns\n",
        "rc('animation', html='jshtml')"
      ],
      "execution_count": 2,
      "outputs": []
    },
    {
      "cell_type": "markdown",
      "metadata": {
        "id": "rAa4e4DwgewD"
      },
      "source": [
        "# Simulation and training parameters"
      ]
    },
    {
      "cell_type": "code",
      "metadata": {
        "id": "Ud09b9F1-zRN"
      },
      "source": [
        "# Time\n",
        "total_time = 10.           #@param\n",
        "time_steps = 3000          #@param\n",
        "\n",
        "# Environment\n",
        "temperature = 4.           #@param\n",
        "gamma = 1.                 #@param\n",
        "\n",
        "\n",
        "# Trap\n",
        "trap_k = 1.                 #@param\n",
        "trap_schedule_degree = 16   #@param\n",
        "mass = 1.                   #@param\n",
        "\n",
        "# Molecule\n",
        "mol_k_l = 1.                #@param\n",
        "mol_k_r = 1.                #@param\n",
        "mol_delta_e = 0.            #@param\n",
        "mol_beta = 1.               #@param\n",
        "mol_location = 5.           #@param\n",
        "\n",
        "# Training\n",
        "seed = 0                    #@param\n",
        "batch_size = 1024           #@param\n",
        "optimizer = optax.adam(.1)   #@param\n",
        "training_steps = 1000       #@param"
      ],
      "execution_count": 4,
      "outputs": []
    },
    {
      "cell_type": "markdown",
      "metadata": {
        "id": "-pzK6pqHhc1J"
      },
      "source": [
        "# Define our initial schedule"
      ]
    },
    {
      "cell_type": "code",
      "metadata": {
        "id": "LHuKgXVchTVE",
        "outputId": "9c3d3a7f-e335-4e65-bf60-74300602f339",
        "colab": {
          "base_uri": "https://localhost:8080/",
          "height": 735
        }
      },
      "source": [
        "initial_location_schedule = p10n.ConstrainEndpoints(\n",
        "    p10n.ChangeDomain(p10n.Chebyshev(jnp.zeros([1, trap_schedule_degree])),\n",
        "                      x0=0., x1=total_time),\n",
        "    y0=-mol_location, y1=mol_location)\n",
        "\n",
        "def plot_schedule(schedule):\n",
        "  times = jnp.linspace(0, total_time, 100)\n",
        "  plt.figure(figsize=[10, 8])\n",
        "  plt.plot(times, schedule(times), label='Trap location', linewidth=3)\n",
        "  xlim = plt.xlim()\n",
        "  plt.hlines(-mol_location, *xlim, 'g', 'dashed', label='Start')\n",
        "  plt.hlines(+mol_location, *xlim, 'r', 'dashed', label='End')\n",
        "  plt.xlabel('Time')\n",
        "  plt.ylabel('Location')\n",
        "  plt.legend()\n",
        "plot_schedule(initial_location_schedule)\n",
        "plt.title('Initial Schedule')"
      ],
      "execution_count": 5,
      "outputs": [
        {
          "output_type": "execute_result",
          "data": {
            "text/plain": [
              "Text(0.5, 1.0, 'Initial Schedule')"
            ]
          },
          "metadata": {},
          "execution_count": 5
        },
        {
          "output_type": "display_data",
          "data": {
            "text/plain": [
              "<Figure size 1000x800 with 1 Axes>"
            ],
            "image/png": "[encoded data removed]"
          },
          "metadata": {}
        }
      ]
    },
    {
      "cell_type": "markdown",
      "metadata": {
        "id": "iec_QVaxll7Q"
      },
      "source": [
        "#Training"
      ]
    },
    {
      "cell_type": "code",
      "metadata": {
        "id": "jtnpxrjSi9dK",
        "outputId": "dd869b25-844e-4d75-8a29-107bdf773137",
        "colab": {
          "base_uri": "https://localhost:8080/",
          "height": 211
        }
      },
      "source": [
        "def seed_stream(seed):\n",
        "  key = jax.random.PRNGKey(seed)\n",
        "  while True:\n",
        "    key, yielded = jax.random.split(key)\n",
        "    yield(key)\n",
        "\n",
        "stream = seed_stream(0)\n",
        "state = optimizer.init(initial_location_schedule)\n",
        "\n",
        "trap_fn = functools.partial(xing.potentials, k=trap_k)\n",
        "molecule = xing.bistable_molecule(\n",
        "    jnp.array([mol_location]), mol_k_l, mol_k_r, mol_delta_e, mol_beta)\n",
        "x0 =  -mol_location * jnp.ones(1)\n",
        "\n",
        "train_step = xing.get_train_step(optimizer,\n",
        "                                 trap_fn,\n",
        "                                 molecule,\n",
        "                                 x0,\n",
        "                                 total_time,\n",
        "                                 time_steps,\n",
        "                                 mass,\n",
        "                                 temperature,\n",
        "                                 gamma,\n",
        "                                 batch_size)\n",
        "\n",
        "summaries = []\n",
        "\n",
        "for j in tqdm.trange(train_steps, position=0):\n",
        "  state, summary = train_step(state, j, next(stream))\n",
        "  summaries.append(summary)\n",
        "\n",
        "# Plot entropy production during training.\n",
        "plt.figure(figsize=[12, 8])\n",
        "plt.plot([s.work.sum(-1) for s in summaries], 'r,', alpha=.1)\n",
        "plt.plot([s.work.sum(-1).mean() for s in summaries], 'b-')\n",
        "plt.xlabel('Training step')\n",
        "plt.ylabel('Work')\n",
        "plt.title('Training')\n",
        "plt.show();\n",
        "\n",
        "final_schedule = optimizer.params_fn(state)\n",
        "plot_schedule(final_schedule)\n",
        "plt.title('Final Schedule')\n",
        "plt.show();"
      ],
      "execution_count": 8,
      "outputs": [
        {
          "output_type": "error",
          "ename": "AttributeError",
          "evalue": "module 'noneq_opt.barrier_crossing' has no attribute 'potentials'",
          "traceback": [
            "\u001b[0;31m---------------------------------------------------------------------------\u001b[0m",
            "\u001b[0;31mAttributeError\u001b[0m                            Traceback (most recent call last)",
            "\u001b[0;32m<ipython-input-8-713694e123ac>\u001b[0m in \u001b[0;36m<cell line: 0>\u001b[0;34m()\u001b[0m\n\u001b[1;32m      8\u001b[0m \u001b[0mstate\u001b[0m \u001b[0;34m=\u001b[0m \u001b[0moptimizer\u001b[0m\u001b[0;34m.\u001b[0m\u001b[0minit\u001b[0m\u001b[0;34m(\u001b[0m\u001b[0minitial_location_schedule\u001b[0m\u001b[0;34m)\u001b[0m\u001b[0;34m\u001b[0m\u001b[0;34m\u001b[0m\u001b[0m\n\u001b[1;32m      9\u001b[0m \u001b[0;34m\u001b[0m\u001b[0m\n\u001b[0;32m---> 10\u001b[0;31m \u001b[0mtrap_fn\u001b[0m \u001b[0;34m=\u001b[0m \u001b[0mfunctools\u001b[0m\u001b[0;34m.\u001b[0m\u001b[0mpartial\u001b[0m\u001b[0;34m(\u001b[0m\u001b[0mxing\u001b[0m\u001b[0;34m.\u001b[0m\u001b[0mpotentials\u001b[0m\u001b[0;34m,\u001b[0m \u001b[0mk\u001b[0m\u001b[0;34m=\u001b[0m\u001b[0mtrap_k\u001b[0m\u001b[0;34m)\u001b[0m\u001b[0;34m\u001b[0m\u001b[0;34m\u001b[0m\u001b[0m\n\u001b[0m\u001b[1;32m     11\u001b[0m molecule = xing.bistable_molecule(\n\u001b[1;32m     12\u001b[0m     jnp.array([mol_location]), mol_k_l, mol_k_r, mol_delta_e, mol_beta)\n",
            "\u001b[0;31mAttributeError\u001b[0m: module 'noneq_opt.barrier_crossing' has no attribute 'potentials'"
          ]
        }
      ]
    },
    {
      "cell_type": "markdown",
      "metadata": {
        "id": "w-6x9IIEkeXY"
      },
      "source": [
        "# Plot an animation of the final schedule"
      ]
    },
    {
      "cell_type": "code",
      "metadata": {
        "colab": {
          "background_save": true
        },
        "id": "2GDVZyKsrJOg"
      },
      "source": [
        "plot_every = 20\n",
        "max_energy = 100\n",
        "\n",
        "times = np.linspace(0, total_time, time_steps // plot_every)\n",
        "xs = jnp.linspace(-2 * mol_location, 2 * mol_location, 100)[..., jnp.newaxis]\n",
        "\n",
        "fig = plt.figure(figsize=[12, 12])\n",
        "ax = plt.axes()\n",
        "\n",
        "schedule = optimizer.params_fn(state)\n",
        "trap = trap_fn(schedule)\n",
        "energy = xing.sum_potentials(trap, molecule)\n",
        "\n",
        "def frame(j):\n",
        "  ax.clear()\n",
        "  time = times[j]\n",
        "\n",
        "  positions = jnp.transpose(summary.state.position[:, j * plot_every], axes=(0, 1))\n",
        "\n",
        "  trp = jax.vmap(trap, [0, None])(xs, time)\n",
        "  mol = jax.vmap(molecule, [0, None])(xs, time)\n",
        "  nrg = jax.vmap(energy, [0, None])(xs, time)\n",
        "  ax.plot(xs, trp, 'r-', label='trap')\n",
        "  ax.plot(xs, mol, 'b-', label='bistable molecule')\n",
        "  ax.plot(xs, nrg, 'm-', label='total')\n",
        "  plot = ax.scatter(positions, jax.vmap(energy, [0, None])(positions, time) + 1, c='g', marker='.', label='locations')\n",
        "  ax.hist\n",
        "  ax.set_ylim(-10, max_energy)\n",
        "  ax.set_xlim(xs[0, 0], xs[-1, 0])\n",
        "  ax.text(-2 * mol_location, -5, f'Time: {time:.2f}')\n",
        "  ax.legend(loc=1)\n",
        "  return plot,\n",
        "\n",
        "frame(0)\n",
        "print('Building animation...')\n",
        "anim = animation.FuncAnimation(\n",
        "    fig, frame, blit=True, frames=time_steps // plot_every)\n",
        "plt.close(fig)\n",
        "anim"
      ],
      "execution_count": null,
      "outputs": []
    }
  ]
}