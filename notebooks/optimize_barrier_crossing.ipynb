{
  "nbformat": 4,
  "nbformat_minor": 0,
  "metadata": {
    "accelerator": "GPU",
    "colab": {
      "name": "Optimizing Barrier Crossing.ipynb",
      "provenance": [],
      "toc_visible": true,
      "include_colab_link": true
    },
    "kernelspec": {
      "display_name": "Python 3",
      "name": "python3"
    }
  },
  "cells": [
    {
      "cell_type": "markdown",
      "metadata": {
        "id": "view-in-github",
        "colab_type": "text"
      },
      "source": [
        "<a href=\"https://colab.research.google.com/github/mc2engel/noneq_opt/blob/mce_2025/notebooks/optimize_barrier_crossing.ipynb\" target=\"_parent\"><img src=\"https://colab.research.google.com/assets/colab-badge.svg\" alt=\"Open In Colab\"/></a>"
      ]
    },
    {
      "cell_type": "markdown",
      "metadata": {
        "id": "APOQq3fVek0r"
      },
      "source": [
        "## Instructions ##\n",
        "\n",
        "Since `noneq_opt` is currently private, you need to create a [Personal Access Token](https://docs.github.com/en/github/authenticating-to-github/creating-a-personal-access-token). Once you have the token, enter it below, and you should be able to run the cell to pip install the package.\n",
        "\n",
        "To run with a GPU, go to `Runtime > Change runtime type` and choose `GPU`.\n",
        "\n",
        "<!---TODO: add TPU instructions and code.--->"
      ]
    },
    {
      "cell_type": "markdown",
      "metadata": {
        "id": "nQvIXGtMekcR"
      },
      "source": [
        "# Installs and Imports"
      ]
    },
    {
      "cell_type": "code",
      "metadata": {
        "id": "xwLV2yqYz6Uy",
        "outputId": "52663683-de10-4b44-bb76-0c6a4f4bf4bf",
        "colab": {
          "base_uri": "https://localhost:8080/",
          "height": 1000
        }
      },
      "source": [
        "token=''\n",
        "!pip install git+https://$token@github.com/mc2engel/noneq_opt.git@mce_2025 --upgrade"
      ],
      "execution_count": 1,
      "outputs": [
        {
          "output_type": "stream",
          "name": "stdout",
          "text": [
            "Collecting git+https://****@github.com/mc2engel/noneq_opt.git@mce_2025\n",
            "  Cloning https://****@github.com/mc2engel/noneq_opt.git (to revision mce_2025) to /tmp/pip-req-build-32wt5y2y\n",
            "  Running command git clone --filter=blob:none --quiet 'https://****@github.com/mc2engel/noneq_opt.git' /tmp/pip-req-build-32wt5y2y\n",
            "  warning: redirecting to https://github.com/mc2engel/noneq_opt.git/\n",
            "  Running command git checkout -b mce_2025 --track origin/mce_2025\n",
            "  warning: redirecting to https://github.com/mc2engel/noneq_opt.git/\n",
            "  Switched to a new branch 'mce_2025'\n",
            "  Branch 'mce_2025' set up to track remote branch 'mce_2025' from 'origin'.\n",
            "  Resolved https://****@github.com/mc2engel/noneq_opt.git to commit a4407a1e32cbb0d397c289e68ee583b8ab6c59fd\n",
            "  Preparing metadata (setup.py) ... \u001b[?25l\u001b[?25hdone\n",
            "Requirement already satisfied: jax in /usr/local/lib/python3.11/dist-packages (from noneq_opt==0.1) (0.4.33)\n",
            "Collecting jax-cosmo (from noneq_opt==0.1)\n",
            "  Downloading jax-cosmo-0.1.0.tar.gz (287 kB)\n",
            "\u001b[2K     \u001b[90m━━━━━━━━━━━━━━━━━━━━━━━━━━━━━━━━━━━━━━━━\u001b[0m \u001b[32m287.4/287.4 kB\u001b[0m \u001b[31m3.8 MB/s\u001b[0m eta \u001b[36m0:00:00\u001b[0m\n",
            "\u001b[?25h  Preparing metadata (setup.py) ... \u001b[?25l\u001b[?25hdone\n",
            "Collecting jax-md (from noneq_opt==0.1)\n",
            "  Downloading jax_md-0.2.8-py3-none-any.whl.metadata (19 kB)\n",
            "Requirement already satisfied: matplotlib in /usr/local/lib/python3.11/dist-packages (from noneq_opt==0.1) (3.10.0)\n",
            "Requirement already satisfied: numpy in /usr/local/lib/python3.11/dist-packages (from noneq_opt==0.1) (1.26.4)\n",
            "Requirement already satisfied: pandas in /usr/local/lib/python3.11/dist-packages (from noneq_opt==0.1) (2.2.2)\n",
            "Requirement already satisfied: pytest in /usr/local/lib/python3.11/dist-packages (from noneq_opt==0.1) (8.3.4)\n",
            "Requirement already satisfied: scipy in /usr/local/lib/python3.11/dist-packages (from noneq_opt==0.1) (1.13.1)\n",
            "Requirement already satisfied: seaborn in /usr/local/lib/python3.11/dist-packages (from noneq_opt==0.1) (0.13.2)\n",
            "Collecting distrax (from noneq_opt==0.1)\n",
            "  Downloading distrax-0.1.5-py3-none-any.whl.metadata (13 kB)\n",
            "Requirement already satisfied: absl-py>=0.9.0 in /usr/local/lib/python3.11/dist-packages (from distrax->noneq_opt==0.1) (1.4.0)\n",
            "Requirement already satisfied: chex>=0.1.8 in /usr/local/lib/python3.11/dist-packages (from distrax->noneq_opt==0.1) (0.1.88)\n",
            "Requirement already satisfied: jaxlib>=0.1.67 in /usr/local/lib/python3.11/dist-packages (from distrax->noneq_opt==0.1) (0.4.33)\n",
            "Requirement already satisfied: tensorflow-probability>=0.15.0 in /usr/local/lib/python3.11/dist-packages (from distrax->noneq_opt==0.1) (0.25.0)\n",
            "Requirement already satisfied: ml-dtypes>=0.2.0 in /usr/local/lib/python3.11/dist-packages (from jax->noneq_opt==0.1) (0.4.1)\n",
            "Requirement already satisfied: opt-einsum in /usr/local/lib/python3.11/dist-packages (from jax->noneq_opt==0.1) (3.4.0)\n",
            "Requirement already satisfied: flax in /usr/local/lib/python3.11/dist-packages (from jax-md->noneq_opt==0.1) (0.10.3)\n",
            "Collecting jraph (from jax-md->noneq_opt==0.1)\n",
            "  Downloading jraph-0.0.6.dev0-py3-none-any.whl.metadata (9.7 kB)\n",
            "Collecting dataclasses (from jax-md->noneq_opt==0.1)\n",
            "  Downloading dataclasses-0.6-py3-none-any.whl.metadata (3.0 kB)\n",
            "Requirement already satisfied: einops in /usr/local/lib/python3.11/dist-packages (from jax-md->noneq_opt==0.1) (0.8.1)\n",
            "Collecting ml-collections (from jax-md->noneq_opt==0.1)\n",
            "  Downloading ml_collections-1.0.0-py3-none-any.whl.metadata (22 kB)\n",
            "Collecting e3nn-jax (from jax-md->noneq_opt==0.1)\n",
            "  Downloading e3nn_jax-0.20.7-py3-none-any.whl.metadata (18 kB)\n",
            "Collecting dm-haiku (from jax-md->noneq_opt==0.1)\n",
            "  Downloading dm_haiku-0.0.13-py3-none-any.whl.metadata (19 kB)\n",
            "Requirement already satisfied: optax in /usr/local/lib/python3.11/dist-packages (from jax-md->noneq_opt==0.1) (0.2.4)\n",
            "Requirement already satisfied: contourpy>=1.0.1 in /usr/local/lib/python3.11/dist-packages (from matplotlib->noneq_opt==0.1) (1.3.1)\n",
            "Requirement already satisfied: cycler>=0.10 in /usr/local/lib/python3.11/dist-packages (from matplotlib->noneq_opt==0.1) (0.12.1)\n",
            "Requirement already satisfied: fonttools>=4.22.0 in /usr/local/lib/python3.11/dist-packages (from matplotlib->noneq_opt==0.1) (4.56.0)\n",
            "Requirement already satisfied: kiwisolver>=1.3.1 in /usr/local/lib/python3.11/dist-packages (from matplotlib->noneq_opt==0.1) (1.4.8)\n",
            "Requirement already satisfied: packaging>=20.0 in /usr/local/lib/python3.11/dist-packages (from matplotlib->noneq_opt==0.1) (24.2)\n",
            "Requirement already satisfied: pillow>=8 in /usr/local/lib/python3.11/dist-packages (from matplotlib->noneq_opt==0.1) (11.1.0)\n",
            "Requirement already satisfied: pyparsing>=2.3.1 in /usr/local/lib/python3.11/dist-packages (from matplotlib->noneq_opt==0.1) (3.2.1)\n",
            "Requirement already satisfied: python-dateutil>=2.7 in /usr/local/lib/python3.11/dist-packages (from matplotlib->noneq_opt==0.1) (2.8.2)\n",
            "Requirement already satisfied: pytz>=2020.1 in /usr/local/lib/python3.11/dist-packages (from pandas->noneq_opt==0.1) (2025.1)\n",
            "Requirement already satisfied: tzdata>=2022.7 in /usr/local/lib/python3.11/dist-packages (from pandas->noneq_opt==0.1) (2025.1)\n",
            "Requirement already satisfied: iniconfig in /usr/local/lib/python3.11/dist-packages (from pytest->noneq_opt==0.1) (2.0.0)\n",
            "Requirement already satisfied: pluggy<2,>=1.5 in /usr/local/lib/python3.11/dist-packages (from pytest->noneq_opt==0.1) (1.5.0)\n",
            "Requirement already satisfied: typing_extensions>=4.2.0 in /usr/local/lib/python3.11/dist-packages (from chex>=0.1.8->distrax->noneq_opt==0.1) (4.12.2)\n",
            "Requirement already satisfied: toolz>=0.9.0 in /usr/local/lib/python3.11/dist-packages (from chex>=0.1.8->distrax->noneq_opt==0.1) (0.12.1)\n",
            "Requirement already satisfied: six>=1.5 in /usr/local/lib/python3.11/dist-packages (from python-dateutil>=2.7->matplotlib->noneq_opt==0.1) (1.17.0)\n",
            "Requirement already satisfied: decorator in /usr/local/lib/python3.11/dist-packages (from tensorflow-probability>=0.15.0->distrax->noneq_opt==0.1) (4.4.2)\n",
            "Requirement already satisfied: cloudpickle>=1.3 in /usr/local/lib/python3.11/dist-packages (from tensorflow-probability>=0.15.0->distrax->noneq_opt==0.1) (3.1.1)\n",
            "Requirement already satisfied: gast>=0.3.2 in /usr/local/lib/python3.11/dist-packages (from tensorflow-probability>=0.15.0->distrax->noneq_opt==0.1) (0.6.0)\n",
            "Requirement already satisfied: dm-tree in /usr/local/lib/python3.11/dist-packages (from tensorflow-probability>=0.15.0->distrax->noneq_opt==0.1) (0.1.9)\n",
            "Collecting jmp>=0.0.2 (from dm-haiku->jax-md->noneq_opt==0.1)\n",
            "  Downloading jmp-0.0.4-py3-none-any.whl.metadata (8.9 kB)\n",
            "Requirement already satisfied: tabulate>=0.8.9 in /usr/local/lib/python3.11/dist-packages (from dm-haiku->jax-md->noneq_opt==0.1) (0.9.0)\n",
            "Requirement already satisfied: sympy in /usr/local/lib/python3.11/dist-packages (from e3nn-jax->jax-md->noneq_opt==0.1) (1.13.1)\n",
            "Requirement already satisfied: attrs in /usr/local/lib/python3.11/dist-packages (from e3nn-jax->jax-md->noneq_opt==0.1) (25.1.0)\n",
            "Requirement already satisfied: msgpack in /usr/local/lib/python3.11/dist-packages (from flax->jax-md->noneq_opt==0.1) (1.1.0)\n",
            "Requirement already satisfied: orbax-checkpoint in /usr/local/lib/python3.11/dist-packages (from flax->jax-md->noneq_opt==0.1) (0.6.4)\n",
            "Requirement already satisfied: tensorstore in /usr/local/lib/python3.11/dist-packages (from flax->jax-md->noneq_opt==0.1) (0.1.71)\n",
            "Requirement already satisfied: rich>=11.1 in /usr/local/lib/python3.11/dist-packages (from flax->jax-md->noneq_opt==0.1) (13.9.4)\n",
            "Requirement already satisfied: PyYAML>=5.4.1 in /usr/local/lib/python3.11/dist-packages (from flax->jax-md->noneq_opt==0.1) (6.0.2)\n",
            "Requirement already satisfied: treescope>=0.1.7 in /usr/local/lib/python3.11/dist-packages (from flax->jax-md->noneq_opt==0.1) (0.1.9)\n",
            "Requirement already satisfied: etils[epy] in /usr/local/lib/python3.11/dist-packages (from optax->jax-md->noneq_opt==0.1) (1.12.0)\n",
            "Requirement already satisfied: markdown-it-py>=2.2.0 in /usr/local/lib/python3.11/dist-packages (from rich>=11.1->flax->jax-md->noneq_opt==0.1) (3.0.0)\n",
            "Requirement already satisfied: pygments<3.0.0,>=2.13.0 in /usr/local/lib/python3.11/dist-packages (from rich>=11.1->flax->jax-md->noneq_opt==0.1) (2.18.0)\n",
            "Requirement already satisfied: wrapt>=1.11.2 in /usr/local/lib/python3.11/dist-packages (from dm-tree->tensorflow-probability>=0.15.0->distrax->noneq_opt==0.1) (1.17.2)\n",
            "Requirement already satisfied: nest_asyncio in /usr/local/lib/python3.11/dist-packages (from orbax-checkpoint->flax->jax-md->noneq_opt==0.1) (1.6.0)\n",
            "Requirement already satisfied: protobuf in /usr/local/lib/python3.11/dist-packages (from orbax-checkpoint->flax->jax-md->noneq_opt==0.1) (4.25.6)\n",
            "Requirement already satisfied: humanize in /usr/local/lib/python3.11/dist-packages (from orbax-checkpoint->flax->jax-md->noneq_opt==0.1) (4.11.0)\n",
            "Requirement already satisfied: mpmath<1.4,>=1.1.0 in /usr/local/lib/python3.11/dist-packages (from sympy->e3nn-jax->jax-md->noneq_opt==0.1) (1.3.0)\n",
            "Requirement already satisfied: mdurl~=0.1 in /usr/local/lib/python3.11/dist-packages (from markdown-it-py>=2.2.0->rich>=11.1->flax->jax-md->noneq_opt==0.1) (0.1.2)\n",
            "Requirement already satisfied: fsspec in /usr/local/lib/python3.11/dist-packages (from etils[epy]->optax->jax-md->noneq_opt==0.1) (2024.10.0)\n",
            "Requirement already satisfied: importlib_resources in /usr/local/lib/python3.11/dist-packages (from etils[epy]->optax->jax-md->noneq_opt==0.1) (6.5.2)\n",
            "Requirement already satisfied: zipp in /usr/local/lib/python3.11/dist-packages (from etils[epy]->optax->jax-md->noneq_opt==0.1) (3.21.0)\n",
            "Downloading distrax-0.1.5-py3-none-any.whl (319 kB)\n",
            "\u001b[2K   \u001b[90m━━━━━━━━━━━━━━━━━━━━━━━━━━━━━━━━━━━━━━━━\u001b[0m \u001b[32m319.7/319.7 kB\u001b[0m \u001b[31m11.2 MB/s\u001b[0m eta \u001b[36m0:00:00\u001b[0m\n",
            "\u001b[?25hDownloading jax_md-0.2.8-py3-none-any.whl (150 kB)\n",
            "\u001b[2K   \u001b[90m━━━━━━━━━━━━━━━━━━━━━━━━━━━━━━━━━━━━━━━━\u001b[0m \u001b[32m151.0/151.0 kB\u001b[0m \u001b[31m7.5 MB/s\u001b[0m eta \u001b[36m0:00:00\u001b[0m\n",
            "\u001b[?25hDownloading dataclasses-0.6-py3-none-any.whl (14 kB)\n",
            "Downloading dm_haiku-0.0.13-py3-none-any.whl (373 kB)\n",
            "\u001b[2K   \u001b[90m━━━━━━━━━━━━━━━━━━━━━━━━━━━━━━━━━━━━━━━━\u001b[0m \u001b[32m373.9/373.9 kB\u001b[0m \u001b[31m18.6 MB/s\u001b[0m eta \u001b[36m0:00:00\u001b[0m\n",
            "\u001b[?25hDownloading e3nn_jax-0.20.7-py3-none-any.whl (168 kB)\n",
            "\u001b[2K   \u001b[90m━━━━━━━━━━━━━━━━━━━━━━━━━━━━━━━━━━━━━━━━\u001b[0m \u001b[32m168.9/168.9 kB\u001b[0m \u001b[31m10.5 MB/s\u001b[0m eta \u001b[36m0:00:00\u001b[0m\n",
            "\u001b[?25hDownloading jraph-0.0.6.dev0-py3-none-any.whl (90 kB)\n",
            "\u001b[2K   \u001b[90m━━━━━━━━━━━━━━━━━━━━━━━━━━━━━━━━━━━━━━━━\u001b[0m \u001b[32m90.6/90.6 kB\u001b[0m \u001b[31m6.4 MB/s\u001b[0m eta \u001b[36m0:00:00\u001b[0m\n",
            "\u001b[?25hDownloading ml_collections-1.0.0-py3-none-any.whl (76 kB)\n",
            "\u001b[2K   \u001b[90m━━━━━━━━━━━━━━━━━━━━━━━━━━━━━━━━━━━━━━━━\u001b[0m \u001b[32m76.5/76.5 kB\u001b[0m \u001b[31m5.8 MB/s\u001b[0m eta \u001b[36m0:00:00\u001b[0m\n",
            "\u001b[?25hDownloading jmp-0.0.4-py3-none-any.whl (18 kB)\n",
            "Building wheels for collected packages: noneq_opt, jax-cosmo\n",
            "  Building wheel for noneq_opt (setup.py) ... \u001b[?25l\u001b[?25hdone\n",
            "  Created wheel for noneq_opt: filename=noneq_opt-0.1-py3-none-any.whl size=18021 sha256=78ee759ccad4e4407c76f1c6d1514e9ee921510edcfb5a527efba4849f408d5c\n",
            "  Stored in directory: /tmp/pip-ephem-wheel-cache-ysfz_igb/wheels/9b/2c/ed/bf936f22bc76c40ade7dc1bb71b48b56bdc6817e1e4300b84c\n",
            "  Building wheel for jax-cosmo (setup.py) ... \u001b[?25l\u001b[?25hdone\n",
            "  Created wheel for jax-cosmo: filename=jax_cosmo-0.1.0-py3-none-any.whl size=35704 sha256=ee62a20634598e7dc47ad3a8463fc8d473c5471505850c75b4de1e5f5c2f3db6\n",
            "  Stored in directory: /root/.cache/pip/wheels/5e/51/91/a3bd1278ea3a0f4f187e1700ed16d5096294204fc4e2d0cd52\n",
            "Successfully built noneq_opt jax-cosmo\n",
            "Installing collected packages: dataclasses, ml-collections, jmp, dm-haiku, jraph, jax-cosmo, e3nn-jax, distrax, jax-md, noneq_opt\n",
            "Successfully installed dataclasses-0.6 distrax-0.1.5 dm-haiku-0.0.13 e3nn-jax-0.20.7 jax-cosmo-0.1.0 jax-md-0.2.8 jmp-0.0.4 jraph-0.0.6.dev0 ml-collections-1.0.0 noneq_opt-0.1\n"
          ]
        },
        {
          "output_type": "display_data",
          "data": {
            "application/vnd.colab-display-data+json": {
              "pip_warning": {
                "packages": [
                  "dataclasses"
                ]
              },
              "id": "2846026ae7dd493097b5de253010057f"
            }
          },
          "metadata": {}
        }
      ]
    },
    {
      "cell_type": "code",
      "metadata": {
        "id": "ySzzQUGu0X3d",
        "outputId": "f57f0581-3ec5-4939-f96f-058a8d6807de",
        "colab": {
          "base_uri": "https://localhost:8080/",
          "height": 384
        }
      },
      "source": [
        "import functools\n",
        "\n",
        "import tqdm\n",
        "\n",
        "from google.colab import files\n",
        "\n",
        "import jax\n",
        "import jax.numpy as jnp\n",
        "import optax\n",
        "import numpy as np\n",
        "\n",
        "import jax_md                                    # DELETE?\n",
        "\n",
        "import noneq_opt.parameterization as p10n\n",
        "import noneq_opt.barrier_crossing as xing\n",
        "\n",
        "import matplotlib.pyplot as plt\n",
        "from matplotlib import animation\n",
        "from matplotlib import rc\n",
        "import pandas as pd\n",
        "import seaborn as sns\n",
        "rc('animation', html='jshtml')"
      ],
      "execution_count": 2,
      "outputs": [
        {
          "output_type": "error",
          "ename": "ModuleNotFoundError",
          "evalue": "No module named 'jax.experimental.optimizers'",
          "traceback": [
            "\u001b[0;31m---------------------------------------------------------------------------\u001b[0m",
            "\u001b[0;31mModuleNotFoundError\u001b[0m                       Traceback (most recent call last)",
            "\u001b[0;32m<ipython-input-2-f0d946e6b188>\u001b[0m in \u001b[0;36m<cell line: 0>\u001b[0;34m()\u001b[0m\n\u001b[1;32m      7\u001b[0m \u001b[0;32mimport\u001b[0m \u001b[0mjax\u001b[0m\u001b[0;34m\u001b[0m\u001b[0;34m\u001b[0m\u001b[0m\n\u001b[1;32m      8\u001b[0m \u001b[0;32mimport\u001b[0m \u001b[0mjax\u001b[0m\u001b[0;34m.\u001b[0m\u001b[0mnumpy\u001b[0m \u001b[0;32mas\u001b[0m \u001b[0mjnp\u001b[0m\u001b[0;34m\u001b[0m\u001b[0;34m\u001b[0m\u001b[0m\n\u001b[0;32m----> 9\u001b[0;31m \u001b[0;32mimport\u001b[0m \u001b[0mjax\u001b[0m\u001b[0;34m.\u001b[0m\u001b[0mexperimental\u001b[0m\u001b[0;34m.\u001b[0m\u001b[0moptimizers\u001b[0m \u001b[0;32mas\u001b[0m \u001b[0mjopt\u001b[0m\u001b[0;34m\u001b[0m\u001b[0;34m\u001b[0m\u001b[0m\n\u001b[0m\u001b[1;32m     10\u001b[0m \u001b[0;32mimport\u001b[0m \u001b[0mnumpy\u001b[0m \u001b[0;32mas\u001b[0m \u001b[0mnp\u001b[0m\u001b[0;34m\u001b[0m\u001b[0;34m\u001b[0m\u001b[0m\n\u001b[1;32m     11\u001b[0m \u001b[0;34m\u001b[0m\u001b[0m\n",
            "\u001b[0;31mModuleNotFoundError\u001b[0m: No module named 'jax.experimental.optimizers'",
            "",
            "\u001b[0;31m---------------------------------------------------------------------------\u001b[0;32m\nNOTE: If your import is failing due to a missing package, you can\nmanually install dependencies using either !pip or !apt.\n\nTo view examples of installing some common dependencies, click the\n\"Open Examples\" button below.\n\u001b[0;31m---------------------------------------------------------------------------\u001b[0m\n"
          ],
          "errorDetails": {
            "actions": [
              {
                "action": "open_url",
                "actionText": "Open Examples",
                "url": "/notebooks/snippets/importing_libraries.ipynb"
              }
            ]
          }
        }
      ]
    },
    {
      "cell_type": "markdown",
      "metadata": {
        "id": "rAa4e4DwgewD"
      },
      "source": [
        "# Simulation and training parameters"
      ]
    },
    {
      "cell_type": "code",
      "metadata": {
        "id": "Ud09b9F1-zRN"
      },
      "source": [
        "# Time\n",
        "total_time = 10.           #@param\n",
        "time_steps = 3000          #@param\n",
        "\n",
        "# Environment\n",
        "temperature = 4.           #@param\n",
        "gamma = 1.                 #@param\n",
        "\n",
        "\n",
        "# Trap\n",
        "trap_k = 1.                 #@param\n",
        "trap_schedule_degree = 16   #@param\n",
        "mass = 1.                   #@param\n",
        "\n",
        "# Molecule\n",
        "mol_k_l = 1.                #@param\n",
        "mol_k_r = 1.                #@param\n",
        "mol_delta_e = 0.            #@param\n",
        "mol_beta = 1.               #@param\n",
        "mol_location = 5.           #@param\n",
        "\n",
        "# Training\n",
        "seed = 0                    #@param\n",
        "batch_size = 1024           #@param\n",
        "optimizer = jopt.adam(.1)   #@param\n",
        "training_steps = 1000       #@param"
      ],
      "execution_count": null,
      "outputs": []
    },
    {
      "cell_type": "markdown",
      "metadata": {
        "id": "-pzK6pqHhc1J"
      },
      "source": [
        "# Define our initial schedule"
      ]
    },
    {
      "cell_type": "code",
      "metadata": {
        "id": "LHuKgXVchTVE"
      },
      "source": [
        "initial_location_schedule = p10n.ConstrainEndpoints(\n",
        "    p10n.ChangeDomain(p10n.Chebyshev(jnp.zeros([1, trap_schedule_degree])),\n",
        "                      x0=0., x1=total_time),\n",
        "    y0=-mol_location, y1=mol_location)\n",
        "\n",
        "def plot_schedule(schedule):\n",
        "  times = jnp.linspace(0, total_time, 100)\n",
        "  plt.figure(figsize=[10, 8])\n",
        "  plt.plot(times, schedule(times), label='Trap location', linewidth=3)\n",
        "  xlim = plt.xlim()\n",
        "  plt.hlines(-mol_location, *xlim, 'g', 'dashed', label='Start')\n",
        "  plt.hlines(+mol_location, *xlim, 'r', 'dashed', label='End')\n",
        "  plt.xlabel('Time')\n",
        "  plt.ylabel('Location')\n",
        "  plt.legend()\n",
        "plot_schedule(initial_location_schedule)\n",
        "plt.title('Initial Schedule')"
      ],
      "execution_count": null,
      "outputs": []
    },
    {
      "cell_type": "markdown",
      "metadata": {
        "id": "iec_QVaxll7Q"
      },
      "source": [
        "#Training"
      ]
    },
    {
      "cell_type": "code",
      "metadata": {
        "id": "jtnpxrjSi9dK"
      },
      "source": [
        "def seed_stream(seed):\n",
        "  key = jax.random.PRNGKey(seed)\n",
        "  while True:\n",
        "    key, yielded = jax.random.split(key)\n",
        "    yield(key)\n",
        "\n",
        "stream = seed_stream(0)\n",
        "state = optimizer.init_fn(initial_location_schedule)\n",
        "\n",
        "trap_fn = functools.partial(xing.potential, k=trap_k)\n",
        "molecule = xing.bistable_molecule(\n",
        "    jnp.array([mol_location]), mol_k_l, mol_k_r, mol_delta_e, mol_beta)\n",
        "x0 =  -mol_location * jnp.ones(1)\n",
        "\n",
        "train_step = xing.get_train_step(optimizer,\n",
        "                                 trap_fn,\n",
        "                                 molecule,\n",
        "                                 x0,\n",
        "                                 total_time,\n",
        "                                 time_steps,\n",
        "                                 mass,\n",
        "                                 temperature,\n",
        "                                 gamma,\n",
        "                                 batch_size)\n",
        "\n",
        "summaries = []\n",
        "\n",
        "for j in tqdm.trange(train_steps, position=0):\n",
        "  state, summary = train_step(state, j, next(stream))\n",
        "  summaries.append(summary)\n",
        "\n",
        "# Plot entropy production during training.\n",
        "plt.figure(figsize=[12, 8])\n",
        "plt.plot([s.work.sum(-1) for s in summaries], 'r,', alpha=.1)\n",
        "plt.plot([s.work.sum(-1).mean() for s in summaries], 'b-')\n",
        "plt.xlabel('Training step')\n",
        "plt.ylabel('Work')\n",
        "plt.title('Training')\n",
        "plt.show();\n",
        "\n",
        "final_schedule = optimizer.params_fn(state)\n",
        "plot_schedule(final_schedule)\n",
        "plt.title('Final Schedule')\n",
        "plt.show();"
      ],
      "execution_count": null,
      "outputs": []
    },
    {
      "cell_type": "markdown",
      "metadata": {
        "id": "w-6x9IIEkeXY"
      },
      "source": [
        "# Plot an animation of the final schedule"
      ]
    },
    {
      "cell_type": "code",
      "metadata": {
        "colab": {
          "background_save": true
        },
        "id": "2GDVZyKsrJOg"
      },
      "source": [
        "plot_every = 20\n",
        "max_energy = 100\n",
        "\n",
        "times = np.linspace(0, total_time, time_steps // plot_every)\n",
        "xs = jnp.linspace(-2 * mol_location, 2 * mol_location, 100)[..., jnp.newaxis]\n",
        "\n",
        "fig = plt.figure(figsize=[12, 12])\n",
        "ax = plt.axes()\n",
        "\n",
        "schedule = optimizer.params_fn(state)\n",
        "trap = trap_fn(schedule)\n",
        "energy = xing.sum_potentials(trap, molecule)\n",
        "\n",
        "def frame(j):\n",
        "  ax.clear()\n",
        "  time = times[j]\n",
        "\n",
        "  positions = jnp.transpose(summary.state.position[:, j * plot_every], axes=(0, 1))\n",
        "\n",
        "  trp = jax.vmap(trap, [0, None])(xs, time)\n",
        "  mol = jax.vmap(molecule, [0, None])(xs, time)\n",
        "  nrg = jax.vmap(energy, [0, None])(xs, time)\n",
        "  ax.plot(xs, trp, 'r-', label='trap')\n",
        "  ax.plot(xs, mol, 'b-', label='bistable molecule')\n",
        "  ax.plot(xs, nrg, 'm-', label='total')\n",
        "  plot = ax.scatter(positions, jax.vmap(energy, [0, None])(positions, time) + 1, c='g', marker='.', label='locations')\n",
        "  ax.hist\n",
        "  ax.set_ylim(-10, max_energy)\n",
        "  ax.set_xlim(xs[0, 0], xs[-1, 0])\n",
        "  ax.text(-2 * mol_location, -5, f'Time: {time:.2f}')\n",
        "  ax.legend(loc=1)\n",
        "  return plot,\n",
        "\n",
        "frame(0)\n",
        "print('Building animation...')\n",
        "anim = animation.FuncAnimation(\n",
        "    fig, frame, blit=True, frames=time_steps // plot_every)\n",
        "plt.close(fig)\n",
        "anim"
      ],
      "execution_count": null,
      "outputs": []
    }
  ]
}