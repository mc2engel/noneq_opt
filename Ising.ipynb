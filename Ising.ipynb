{
  "nbformat": 4,
  "nbformat_minor": 0,
  "metadata": {
    "colab": {
      "name": "Ising.ipynb",
      "provenance": [],
      "collapsed_sections": [],
      "authorship_tag": "ABX9TyObVWsKY+PErzI0/pgk1+Vk",
      "include_colab_link": true
    },
    "kernelspec": {
      "name": "python3",
      "display_name": "Python 3"
    },
    "accelerator": "GPU"
  },
  "cells": [
    {
      "cell_type": "markdown",
      "metadata": {
        "id": "view-in-github",
        "colab_type": "text"
      },
      "source": [
        "<a href=\"https://colab.research.google.com/github/mc2engel/noneq_opt/blob/main/Ising.ipynb\" target=\"_parent\"><img src=\"https://colab.research.google.com/assets/colab-badge.svg\" alt=\"Open In Colab\"/></a>"
      ]
    },
    {
      "cell_type": "markdown",
      "metadata": {
        "id": "UERL3F1_sUL_"
      },
      "source": [
        "## Instructions ##\n",
        "\n",
        "Since `noneq_opt` is currently private, you need to create a [Personal Access Token](https://docs.github.com/en/github/authenticating-to-github/creating-a-personal-access-token). Once you have the token, enter it below, and you should be able to run the cell to pip install the package.\n",
        "\n",
        "To run with a GPU, go to `Runtime > Change runtime type` and choose `GPU`.\n",
        "\n",
        "<!---TODO: add TPU instructions and code.--->"
      ]
    },
    {
      "cell_type": "code",
      "metadata": {
        "id": "e_F8rZMDlohU"
      },
      "source": [
        "token=''\n",
        "!pip install git+https://$token@github.com/mc2engel/noneq_opt.git"
      ],
      "execution_count": null,
      "outputs": []
    },
    {
      "cell_type": "code",
      "metadata": {
        "id": "NmXLZB-zlpOx"
      },
      "source": [
        "import tqdm\n",
        "\n",
        "from google.colab import files\n",
        "\n",
        "import jax\n",
        "import jax.numpy as jnp\n",
        "\n",
        "from noneq_opt import ising\n",
        "\n",
        "import matplotlib.pyplot as plt\n",
        "from matplotlib import animation\n",
        "from matplotlib import rc\n",
        "rc('animation', html='jshtml')"
      ],
      "execution_count": 48,
      "outputs": []
    },
    {
      "cell_type": "code",
      "metadata": {
        "id": "we8GExVjlvht"
      },
      "source": [
        "size = 2048  #@param\n",
        "temperature = .5  #@param\n",
        "field = 0.  #@param\n",
        "\n",
        "seed = 0  #@param\n",
        "\n",
        "time_steps = 1000 #@param\n",
        "save_every = 20  #@param\n",
        "\n",
        "\n",
        "split, key = jax.random.split(jax.random.PRNGKey(1))\n",
        "\n",
        "schedule = ising.IsingParameters(jnp.log(temperature) * jnp.ones(save_every),\n",
        "                                 field * jnp.ones(save_every))\n",
        "spins = ising.random_spins([size, size], .5, split)\n",
        "\n",
        "frames = [spins]\n",
        "\n",
        "for _ in tqdm.trange(time_steps // save_every):\n",
        "  split, key = jax.random.split(key)\n",
        "  final_state, summary = ising.simulate_ising(schedule, spins, split)\n",
        "  spins = final_state.spins\n",
        "  frames.append(spins)"
      ],
      "execution_count": null,
      "outputs": []
    },
    {
      "cell_type": "code",
      "metadata": {
        "id": "hnd3kghGmp7v"
      },
      "source": [
        "# Create an animation of the Ising simulation.\n",
        "\n",
        "fig = plt.figure(figsize=[12, 12])\n",
        "ax = plt.axes()\n",
        "\n",
        "def frame(j):\n",
        "  ax.clear()\n",
        "  plot = ax.imshow(frames[j])\n",
        "  return plot,\n",
        "\n",
        "print('Building animation...')\n",
        "anim = animation.FuncAnimation(\n",
        "    fig, frame, blit=True, frames=time_steps // save_every)\n",
        "plt.close(fig)\n",
        "anim"
      ],
      "execution_count": null,
      "outputs": []
    },
    {
      "cell_type": "code",
      "metadata": {
        "colab": {
          "base_uri": "https://localhost:8080/",
          "height": 17
        },
        "id": "jTw5AkXGrCmH",
        "outputId": "5a458dcb-e001-44f7-f213-f0457a0d3208"
      },
      "source": [
        "# Download the animation\n",
        "path = '/tmp/ising.mp4'\n",
        "anim.save(path)\n",
        "files.download(path)"
      ],
      "execution_count": 40,
      "outputs": [
        {
          "output_type": "display_data",
          "data": {
            "application/javascript": [
              "\n",
              "    async function download(id, filename, size) {\n",
              "      if (!google.colab.kernel.accessAllowed) {\n",
              "        return;\n",
              "      }\n",
              "      const div = document.createElement('div');\n",
              "      const label = document.createElement('label');\n",
              "      label.textContent = `Downloading \"${filename}\": `;\n",
              "      div.appendChild(label);\n",
              "      const progress = document.createElement('progress');\n",
              "      progress.max = size;\n",
              "      div.appendChild(progress);\n",
              "      document.body.appendChild(div);\n",
              "\n",
              "      const buffers = [];\n",
              "      let downloaded = 0;\n",
              "\n",
              "      const channel = await google.colab.kernel.comms.open(id);\n",
              "      // Send a message to notify the kernel that we're ready.\n",
              "      channel.send({})\n",
              "\n",
              "      for await (const message of channel.messages) {\n",
              "        // Send a message to notify the kernel that we're ready.\n",
              "        channel.send({})\n",
              "        if (message.buffers) {\n",
              "          for (const buffer of message.buffers) {\n",
              "            buffers.push(buffer);\n",
              "            downloaded += buffer.byteLength;\n",
              "            progress.value = downloaded;\n",
              "          }\n",
              "        }\n",
              "      }\n",
              "      const blob = new Blob(buffers, {type: 'application/binary'});\n",
              "      const a = document.createElement('a');\n",
              "      a.href = window.URL.createObjectURL(blob);\n",
              "      a.download = filename;\n",
              "      div.appendChild(a);\n",
              "      a.click();\n",
              "      div.remove();\n",
              "    }\n",
              "  "
            ],
            "text/plain": [
              "<IPython.core.display.Javascript object>"
            ]
          },
          "metadata": {
            "tags": []
          }
        },
        {
          "output_type": "display_data",
          "data": {
            "application/javascript": [
              "download(\"download_7ef095cd-0c08-4493-8650-10fb47a74e64\", \"ising.mp4\", 734116)"
            ],
            "text/plain": [
              "<IPython.core.display.Javascript object>"
            ]
          },
          "metadata": {
            "tags": []
          }
        }
      ]
    }
  ]
}